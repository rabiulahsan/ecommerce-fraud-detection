{
 "cells": [
  {
   "cell_type": "code",
   "execution_count": 1,
   "id": "f7c77dcc-174c-4720-a87c-4801fc2fa3df",
   "metadata": {},
   "outputs": [],
   "source": [
    "import numpy as np\n",
    "import pandas as pd\n",
    "import matplotlib.pyplot as plt\n",
    "import seaborn as sns\n",
    "import warnings\n",
    "\n",
    "from sklearn.svm import SVC\n",
    "from sklearn.model_selection import train_test_split, GridSearchCV\n",
    "from sklearn.preprocessing import MinMaxScaler, LabelEncoder\n",
    "from sklearn.metrics import accuracy_score, mean_squared_error, classification_report, confusion_matrix\n",
    "from sklearn.ensemble import RandomForestClassifier\n",
    "from sklearn.tree import DecisionTreeClassifier\n",
    "\n",
    "\n",
    "# To ignore warnings (especially during model training)\n",
    "warnings.filterwarnings(\"ignore\")"
   ]
  },
  {
   "cell_type": "code",
   "execution_count": 2,
   "id": "38621b92-8a07-4bb7-ace7-fdfd9d051cc2",
   "metadata": {},
   "outputs": [
    {
     "name": "stdout",
     "output_type": "stream",
     "text": [
      "Requirement already satisfied: xgboost in c:\\users\\asus\\miniconda3\\lib\\site-packages (2.1.2)\n",
      "Requirement already satisfied: lightgbm in c:\\users\\asus\\miniconda3\\lib\\site-packages (4.5.0)\n",
      "Requirement already satisfied: numpy in c:\\users\\asus\\miniconda3\\lib\\site-packages (from xgboost) (2.1.3)\n",
      "Requirement already satisfied: scipy in c:\\users\\asus\\miniconda3\\lib\\site-packages (from xgboost) (1.14.1)\n",
      "Note: you may need to restart the kernel to use updated packages.\n"
     ]
    }
   ],
   "source": [
    "pip install xgboost lightgbm"
   ]
  },
  {
   "cell_type": "code",
   "execution_count": 3,
   "id": "076c9ef9-49d1-45d3-8894-b41f2551a886",
   "metadata": {},
   "outputs": [
    {
     "data": {
      "text/html": [
       "<div>\n",
       "<style scoped>\n",
       "    .dataframe tbody tr th:only-of-type {\n",
       "        vertical-align: middle;\n",
       "    }\n",
       "\n",
       "    .dataframe tbody tr th {\n",
       "        vertical-align: top;\n",
       "    }\n",
       "\n",
       "    .dataframe thead th {\n",
       "        text-align: right;\n",
       "    }\n",
       "</style>\n",
       "<table border=\"1\" class=\"dataframe\">\n",
       "  <thead>\n",
       "    <tr style=\"text-align: right;\">\n",
       "      <th></th>\n",
       "      <th>Customer_ID</th>\n",
       "      <th>Customer_Age</th>\n",
       "      <th>Customer_Location</th>\n",
       "      <th>Customer_Tier</th>\n",
       "      <th>Purchase_History</th>\n",
       "      <th>Transaction_Amount</th>\n",
       "      <th>Payment_Method</th>\n",
       "      <th>Transaction_Status</th>\n",
       "      <th>Fraud</th>\n",
       "      <th>Product_Category</th>\n",
       "      <th>Device_Type</th>\n",
       "      <th>IP_Address</th>\n",
       "      <th>High_Risk_Countries</th>\n",
       "      <th>Mismatch_Between_IP_And_Location</th>\n",
       "      <th>Multiple_Transactions</th>\n",
       "    </tr>\n",
       "  </thead>\n",
       "  <tbody>\n",
       "    <tr>\n",
       "      <th>0</th>\n",
       "      <td>CUST_156</td>\n",
       "      <td>25</td>\n",
       "      <td>India</td>\n",
       "      <td>new</td>\n",
       "      <td>17</td>\n",
       "      <td>260.81</td>\n",
       "      <td>PayPal</td>\n",
       "      <td>successful</td>\n",
       "      <td>0.0</td>\n",
       "      <td>home</td>\n",
       "      <td>desktop</td>\n",
       "      <td>244.166.103.86</td>\n",
       "      <td>0</td>\n",
       "      <td>0.0</td>\n",
       "      <td>0.0</td>\n",
       "    </tr>\n",
       "    <tr>\n",
       "      <th>1</th>\n",
       "      <td>CUST_13</td>\n",
       "      <td>20</td>\n",
       "      <td>UK</td>\n",
       "      <td>returning</td>\n",
       "      <td>20</td>\n",
       "      <td>190.22</td>\n",
       "      <td>debit card</td>\n",
       "      <td>successful</td>\n",
       "      <td>0.0</td>\n",
       "      <td>clothing</td>\n",
       "      <td>mobile</td>\n",
       "      <td>70.218.78.200</td>\n",
       "      <td>0</td>\n",
       "      <td>0.0</td>\n",
       "      <td>0.0</td>\n",
       "    </tr>\n",
       "    <tr>\n",
       "      <th>2</th>\n",
       "      <td>CUST_90</td>\n",
       "      <td>34</td>\n",
       "      <td>India</td>\n",
       "      <td>new</td>\n",
       "      <td>35</td>\n",
       "      <td>667.89</td>\n",
       "      <td>bank transfer</td>\n",
       "      <td>successful</td>\n",
       "      <td>1.0</td>\n",
       "      <td>sports</td>\n",
       "      <td>desktop</td>\n",
       "      <td>192.84.184.229</td>\n",
       "      <td>0</td>\n",
       "      <td>0.0</td>\n",
       "      <td>3.0</td>\n",
       "    </tr>\n",
       "  </tbody>\n",
       "</table>\n",
       "</div>"
      ],
      "text/plain": [
       "  Customer_ID  Customer_Age Customer_Location Customer_Tier  Purchase_History  \\\n",
       "0    CUST_156            25             India           new                17   \n",
       "1     CUST_13            20                UK     returning                20   \n",
       "2     CUST_90            34             India           new                35   \n",
       "\n",
       "   Transaction_Amount Payment_Method Transaction_Status  Fraud  \\\n",
       "0              260.81         PayPal         successful    0.0   \n",
       "1              190.22     debit card         successful    0.0   \n",
       "2              667.89  bank transfer         successful    1.0   \n",
       "\n",
       "  Product_Category Device_Type      IP_Address  High_Risk_Countries  \\\n",
       "0             home     desktop  244.166.103.86                    0   \n",
       "1         clothing      mobile   70.218.78.200                    0   \n",
       "2           sports     desktop  192.84.184.229                    0   \n",
       "\n",
       "   Mismatch_Between_IP_And_Location  Multiple_Transactions  \n",
       "0                               0.0                    0.0  \n",
       "1                               0.0                    0.0  \n",
       "2                               0.0                    3.0  "
      ]
     },
     "execution_count": 3,
     "metadata": {},
     "output_type": "execute_result"
    }
   ],
   "source": [
    "data= pd.read_csv('ecommerce-fraud-dataset.csv')\n",
    "data.head(3)"
   ]
  },
  {
   "cell_type": "code",
   "execution_count": 4,
   "id": "c9d54c92-8649-413e-976e-3f1437be54c9",
   "metadata": {},
   "outputs": [
    {
     "data": {
      "text/html": [
       "<div>\n",
       "<style scoped>\n",
       "    .dataframe tbody tr th:only-of-type {\n",
       "        vertical-align: middle;\n",
       "    }\n",
       "\n",
       "    .dataframe tbody tr th {\n",
       "        vertical-align: top;\n",
       "    }\n",
       "\n",
       "    .dataframe thead th {\n",
       "        text-align: right;\n",
       "    }\n",
       "</style>\n",
       "<table border=\"1\" class=\"dataframe\">\n",
       "  <thead>\n",
       "    <tr style=\"text-align: right;\">\n",
       "      <th></th>\n",
       "      <th>Customer_Age</th>\n",
       "      <th>Customer_Location</th>\n",
       "      <th>Customer_Tier</th>\n",
       "      <th>Purchase_History</th>\n",
       "      <th>Transaction_Amount</th>\n",
       "      <th>Payment_Method</th>\n",
       "      <th>Transaction_Status</th>\n",
       "      <th>Fraud</th>\n",
       "      <th>Product_Category</th>\n",
       "      <th>High_Risk_Countries</th>\n",
       "      <th>Mismatch_Between_IP_And_Location</th>\n",
       "      <th>Multiple_Transactions</th>\n",
       "    </tr>\n",
       "  </thead>\n",
       "  <tbody>\n",
       "    <tr>\n",
       "      <th>0</th>\n",
       "      <td>25</td>\n",
       "      <td>India</td>\n",
       "      <td>new</td>\n",
       "      <td>17</td>\n",
       "      <td>260.81</td>\n",
       "      <td>PayPal</td>\n",
       "      <td>successful</td>\n",
       "      <td>0.0</td>\n",
       "      <td>home</td>\n",
       "      <td>0</td>\n",
       "      <td>0.0</td>\n",
       "      <td>0.0</td>\n",
       "    </tr>\n",
       "    <tr>\n",
       "      <th>1</th>\n",
       "      <td>20</td>\n",
       "      <td>UK</td>\n",
       "      <td>returning</td>\n",
       "      <td>20</td>\n",
       "      <td>190.22</td>\n",
       "      <td>debit card</td>\n",
       "      <td>successful</td>\n",
       "      <td>0.0</td>\n",
       "      <td>clothing</td>\n",
       "      <td>0</td>\n",
       "      <td>0.0</td>\n",
       "      <td>0.0</td>\n",
       "    </tr>\n",
       "    <tr>\n",
       "      <th>2</th>\n",
       "      <td>34</td>\n",
       "      <td>India</td>\n",
       "      <td>new</td>\n",
       "      <td>35</td>\n",
       "      <td>667.89</td>\n",
       "      <td>bank transfer</td>\n",
       "      <td>successful</td>\n",
       "      <td>1.0</td>\n",
       "      <td>sports</td>\n",
       "      <td>0</td>\n",
       "      <td>0.0</td>\n",
       "      <td>3.0</td>\n",
       "    </tr>\n",
       "    <tr>\n",
       "      <th>3</th>\n",
       "      <td>60</td>\n",
       "      <td>USA</td>\n",
       "      <td>returning</td>\n",
       "      <td>18</td>\n",
       "      <td>517.69</td>\n",
       "      <td>PayPal</td>\n",
       "      <td>successful</td>\n",
       "      <td>1.0</td>\n",
       "      <td>home</td>\n",
       "      <td>0</td>\n",
       "      <td>1.0</td>\n",
       "      <td>3.0</td>\n",
       "    </tr>\n",
       "    <tr>\n",
       "      <th>4</th>\n",
       "      <td>64</td>\n",
       "      <td>Germany</td>\n",
       "      <td>premium</td>\n",
       "      <td>40</td>\n",
       "      <td>233.10</td>\n",
       "      <td>PayPal</td>\n",
       "      <td>successful</td>\n",
       "      <td>0.0</td>\n",
       "      <td>clothing</td>\n",
       "      <td>0</td>\n",
       "      <td>0.0</td>\n",
       "      <td>2.0</td>\n",
       "    </tr>\n",
       "  </tbody>\n",
       "</table>\n",
       "</div>"
      ],
      "text/plain": [
       "   Customer_Age Customer_Location Customer_Tier  Purchase_History  \\\n",
       "0            25             India           new                17   \n",
       "1            20                UK     returning                20   \n",
       "2            34             India           new                35   \n",
       "3            60               USA     returning                18   \n",
       "4            64           Germany       premium                40   \n",
       "\n",
       "   Transaction_Amount Payment_Method Transaction_Status  Fraud  \\\n",
       "0              260.81         PayPal         successful    0.0   \n",
       "1              190.22     debit card         successful    0.0   \n",
       "2              667.89  bank transfer         successful    1.0   \n",
       "3              517.69         PayPal         successful    1.0   \n",
       "4              233.10         PayPal         successful    0.0   \n",
       "\n",
       "  Product_Category  High_Risk_Countries  Mismatch_Between_IP_And_Location  \\\n",
       "0             home                    0                               0.0   \n",
       "1         clothing                    0                               0.0   \n",
       "2           sports                    0                               0.0   \n",
       "3             home                    0                               1.0   \n",
       "4         clothing                    0                               0.0   \n",
       "\n",
       "   Multiple_Transactions  \n",
       "0                    0.0  \n",
       "1                    0.0  \n",
       "2                    3.0  \n",
       "3                    3.0  \n",
       "4                    2.0  "
      ]
     },
     "execution_count": 4,
     "metadata": {},
     "output_type": "execute_result"
    }
   ],
   "source": [
    "data.drop(columns=['IP_Address','Customer_ID','Device_Type'], inplace=True)\n",
    "data.head(5)"
   ]
  },
  {
   "cell_type": "code",
   "execution_count": 5,
   "id": "1d464e9d-2097-4122-bdda-b724e24b9406",
   "metadata": {},
   "outputs": [
    {
     "data": {
      "text/plain": [
       "(800, 12)"
      ]
     },
     "execution_count": 5,
     "metadata": {},
     "output_type": "execute_result"
    }
   ],
   "source": [
    "data.shape"
   ]
  },
  {
   "cell_type": "code",
   "execution_count": 6,
   "id": "3df0ad74-cae0-486e-8ebb-67d144d657d2",
   "metadata": {},
   "outputs": [
    {
     "data": {
      "text/plain": [
       "Customer_Age                         0\n",
       "Customer_Location                    0\n",
       "Customer_Tier                       24\n",
       "Purchase_History                     0\n",
       "Transaction_Amount                   0\n",
       "Payment_Method                       0\n",
       "Transaction_Status                   0\n",
       "Fraud                               24\n",
       "Product_Category                     0\n",
       "High_Risk_Countries                  0\n",
       "Mismatch_Between_IP_And_Location    24\n",
       "Multiple_Transactions               24\n",
       "dtype: int64"
      ]
     },
     "execution_count": 6,
     "metadata": {},
     "output_type": "execute_result"
    }
   ],
   "source": [
    "data.isnull().sum()"
   ]
  },
  {
   "cell_type": "code",
   "execution_count": 7,
   "id": "6f09eb3c-a7df-4f40-b299-570fee65d7ab",
   "metadata": {},
   "outputs": [
    {
     "data": {
      "text/plain": [
       "np.int64(0)"
      ]
     },
     "execution_count": 7,
     "metadata": {},
     "output_type": "execute_result"
    }
   ],
   "source": [
    "data.duplicated().sum()"
   ]
  },
  {
   "cell_type": "code",
   "execution_count": 8,
   "id": "a5fb1d0c-2ff3-4045-8150-392c25af66cb",
   "metadata": {},
   "outputs": [
    {
     "name": "stdout",
     "output_type": "stream",
     "text": [
      "Customer_Tier                        object\n",
      "Fraud                               float64\n",
      "Mismatch_Between_IP_And_Location    float64\n",
      "Multiple_Transactions               float64\n",
      "dtype: object\n"
     ]
    }
   ],
   "source": [
    "# Identify columns with missing values\n",
    "missing_columns = data.columns[data.isnull().any()]\n",
    "\n",
    "# Get the data types of these columns\n",
    "missing_columns_dtypes = data[missing_columns].dtypes\n",
    "print(missing_columns_dtypes)\n"
   ]
  },
  {
   "cell_type": "code",
   "execution_count": 9,
   "id": "684d502b-3675-4d47-8d7f-1158ec5ea72b",
   "metadata": {},
   "outputs": [],
   "source": [
    "for i in data.select_dtypes(include='object').columns:\n",
    "    data[i].fillna(data[i].mode()[0], inplace=True)\n"
   ]
  },
  {
   "cell_type": "code",
   "execution_count": 10,
   "id": "d13de232-e927-4c02-9b16-8b8efeb90f89",
   "metadata": {},
   "outputs": [],
   "source": [
    "data['Mismatch_Between_IP_And_Location'].fillna(data['Mismatch_Between_IP_And_Location'].mode()[0], inplace=True)\n",
    "data['Fraud'].fillna(data['Fraud'].mode()[0], inplace=True)\n"
   ]
  },
  {
   "cell_type": "code",
   "execution_count": 11,
   "id": "e2bfc8c9-3300-4e20-8193-af1820d49d9a",
   "metadata": {},
   "outputs": [],
   "source": [
    "data['Multiple_Transactions'].fillna(data['Multiple_Transactions'].mean(), inplace=True)"
   ]
  },
  {
   "cell_type": "code",
   "execution_count": 12,
   "id": "efed2bb8-1512-4dfa-be00-060a91c4b61b",
   "metadata": {},
   "outputs": [
    {
     "data": {
      "text/plain": [
       "Customer_Age                        0\n",
       "Customer_Location                   0\n",
       "Customer_Tier                       0\n",
       "Purchase_History                    0\n",
       "Transaction_Amount                  0\n",
       "Payment_Method                      0\n",
       "Transaction_Status                  0\n",
       "Fraud                               0\n",
       "Product_Category                    0\n",
       "High_Risk_Countries                 0\n",
       "Mismatch_Between_IP_And_Location    0\n",
       "Multiple_Transactions               0\n",
       "dtype: int64"
      ]
     },
     "execution_count": 12,
     "metadata": {},
     "output_type": "execute_result"
    }
   ],
   "source": [
    "data.isnull().sum()"
   ]
  },
  {
   "cell_type": "code",
   "execution_count": 13,
   "id": "951f0128-2cf7-46d0-a57f-cabe234ad302",
   "metadata": {},
   "outputs": [
    {
     "name": "stdout",
     "output_type": "stream",
     "text": [
      "Customer_Location ['India' 'UK' 'USA' 'Germany' 'Other' 'Canada']\n",
      "Customer_Tier ['new' 'returning' 'premium']\n",
      "Payment_Method ['PayPal' 'debit card' 'bank transfer' 'credit card']\n",
      "Transaction_Status ['successful' 'pending' 'failed']\n",
      "Product_Category ['home' 'clothing' 'sports' 'other' 'electronics']\n"
     ]
    }
   ],
   "source": [
    "for i in data.select_dtypes(include='object').columns:\n",
    "    print(i,data[i].unique())\n"
   ]
  },
  {
   "cell_type": "code",
   "execution_count": 14,
   "id": "ea357297-bfdc-4547-9d1a-ae19c400e378",
   "metadata": {},
   "outputs": [
    {
     "name": "stdout",
     "output_type": "stream",
     "text": [
      "['Customer_Location', 'Customer_Tier', 'Payment_Method', 'Transaction_Status', 'Product_Category']\n"
     ]
    }
   ],
   "source": [
    "categorical_columns = []\n",
    "for i in data.select_dtypes(include='object').columns:\n",
    "    categorical_columns.append(i)\n",
    "    \n",
    "print(categorical_columns)"
   ]
  },
  {
   "cell_type": "code",
   "execution_count": 15,
   "id": "466335cb-4551-403c-aa4b-5003f2cf6f0c",
   "metadata": {},
   "outputs": [
    {
     "name": "stdout",
     "output_type": "stream",
     "text": [
      "[2 4 5 1 3 0]\n",
      "[0 2 1]\n",
      "[0 3 1 2]\n",
      "[2 1 0]\n",
      "[2 0 4 3 1]\n"
     ]
    }
   ],
   "source": [
    "le = LabelEncoder()\n",
    "\n",
    "for i in categorical_columns:\n",
    "    data[i] = le.fit_transform(data[i])\n",
    "    print(data[i].unique())"
   ]
  },
  {
   "cell_type": "code",
   "execution_count": 16,
   "id": "15748fea-9eed-441a-a83c-433dccabb821",
   "metadata": {},
   "outputs": [
    {
     "data": {
      "text/html": [
       "<div>\n",
       "<style scoped>\n",
       "    .dataframe tbody tr th:only-of-type {\n",
       "        vertical-align: middle;\n",
       "    }\n",
       "\n",
       "    .dataframe tbody tr th {\n",
       "        vertical-align: top;\n",
       "    }\n",
       "\n",
       "    .dataframe thead th {\n",
       "        text-align: right;\n",
       "    }\n",
       "</style>\n",
       "<table border=\"1\" class=\"dataframe\">\n",
       "  <thead>\n",
       "    <tr style=\"text-align: right;\">\n",
       "      <th></th>\n",
       "      <th>Customer_Age</th>\n",
       "      <th>Customer_Location</th>\n",
       "      <th>Customer_Tier</th>\n",
       "      <th>Purchase_History</th>\n",
       "      <th>Transaction_Amount</th>\n",
       "      <th>Payment_Method</th>\n",
       "      <th>Transaction_Status</th>\n",
       "      <th>Fraud</th>\n",
       "      <th>Product_Category</th>\n",
       "      <th>High_Risk_Countries</th>\n",
       "      <th>Mismatch_Between_IP_And_Location</th>\n",
       "      <th>Multiple_Transactions</th>\n",
       "    </tr>\n",
       "  </thead>\n",
       "  <tbody>\n",
       "    <tr>\n",
       "      <th>0</th>\n",
       "      <td>25</td>\n",
       "      <td>2</td>\n",
       "      <td>0</td>\n",
       "      <td>17</td>\n",
       "      <td>260.81</td>\n",
       "      <td>0</td>\n",
       "      <td>2</td>\n",
       "      <td>0.0</td>\n",
       "      <td>2</td>\n",
       "      <td>0</td>\n",
       "      <td>0.0</td>\n",
       "      <td>0.0</td>\n",
       "    </tr>\n",
       "    <tr>\n",
       "      <th>1</th>\n",
       "      <td>20</td>\n",
       "      <td>4</td>\n",
       "      <td>2</td>\n",
       "      <td>20</td>\n",
       "      <td>190.22</td>\n",
       "      <td>3</td>\n",
       "      <td>2</td>\n",
       "      <td>0.0</td>\n",
       "      <td>0</td>\n",
       "      <td>0</td>\n",
       "      <td>0.0</td>\n",
       "      <td>0.0</td>\n",
       "    </tr>\n",
       "    <tr>\n",
       "      <th>2</th>\n",
       "      <td>34</td>\n",
       "      <td>2</td>\n",
       "      <td>0</td>\n",
       "      <td>35</td>\n",
       "      <td>667.89</td>\n",
       "      <td>1</td>\n",
       "      <td>2</td>\n",
       "      <td>1.0</td>\n",
       "      <td>4</td>\n",
       "      <td>0</td>\n",
       "      <td>0.0</td>\n",
       "      <td>3.0</td>\n",
       "    </tr>\n",
       "    <tr>\n",
       "      <th>3</th>\n",
       "      <td>60</td>\n",
       "      <td>5</td>\n",
       "      <td>2</td>\n",
       "      <td>18</td>\n",
       "      <td>517.69</td>\n",
       "      <td>0</td>\n",
       "      <td>2</td>\n",
       "      <td>1.0</td>\n",
       "      <td>2</td>\n",
       "      <td>0</td>\n",
       "      <td>1.0</td>\n",
       "      <td>3.0</td>\n",
       "    </tr>\n",
       "  </tbody>\n",
       "</table>\n",
       "</div>"
      ],
      "text/plain": [
       "   Customer_Age  Customer_Location  Customer_Tier  Purchase_History  \\\n",
       "0            25                  2              0                17   \n",
       "1            20                  4              2                20   \n",
       "2            34                  2              0                35   \n",
       "3            60                  5              2                18   \n",
       "\n",
       "   Transaction_Amount  Payment_Method  Transaction_Status  Fraud  \\\n",
       "0              260.81               0                   2    0.0   \n",
       "1              190.22               3                   2    0.0   \n",
       "2              667.89               1                   2    1.0   \n",
       "3              517.69               0                   2    1.0   \n",
       "\n",
       "   Product_Category  High_Risk_Countries  Mismatch_Between_IP_And_Location  \\\n",
       "0                 2                    0                               0.0   \n",
       "1                 0                    0                               0.0   \n",
       "2                 4                    0                               0.0   \n",
       "3                 2                    0                               1.0   \n",
       "\n",
       "   Multiple_Transactions  \n",
       "0                    0.0  \n",
       "1                    0.0  \n",
       "2                    3.0  \n",
       "3                    3.0  "
      ]
     },
     "execution_count": 16,
     "metadata": {},
     "output_type": "execute_result"
    }
   ],
   "source": [
    "data.head(4)"
   ]
  },
  {
   "cell_type": "code",
   "execution_count": 17,
   "id": "1ed67145-df27-4851-bc94-fd90b48a7188",
   "metadata": {},
   "outputs": [
    {
     "data": {
      "text/html": [
       "<div>\n",
       "<style scoped>\n",
       "    .dataframe tbody tr th:only-of-type {\n",
       "        vertical-align: middle;\n",
       "    }\n",
       "\n",
       "    .dataframe tbody tr th {\n",
       "        vertical-align: top;\n",
       "    }\n",
       "\n",
       "    .dataframe thead th {\n",
       "        text-align: right;\n",
       "    }\n",
       "</style>\n",
       "<table border=\"1\" class=\"dataframe\">\n",
       "  <thead>\n",
       "    <tr style=\"text-align: right;\">\n",
       "      <th></th>\n",
       "      <th>Customer_Age</th>\n",
       "      <th>Customer_Location</th>\n",
       "      <th>Customer_Tier</th>\n",
       "      <th>Purchase_History</th>\n",
       "      <th>Transaction_Amount</th>\n",
       "      <th>Payment_Method</th>\n",
       "      <th>Transaction_Status</th>\n",
       "      <th>Fraud</th>\n",
       "      <th>Product_Category</th>\n",
       "      <th>High_Risk_Countries</th>\n",
       "      <th>Mismatch_Between_IP_And_Location</th>\n",
       "      <th>Multiple_Transactions</th>\n",
       "    </tr>\n",
       "  </thead>\n",
       "  <tbody>\n",
       "    <tr>\n",
       "      <th>0</th>\n",
       "      <td>25</td>\n",
       "      <td>2</td>\n",
       "      <td>0</td>\n",
       "      <td>17</td>\n",
       "      <td>0.252803</td>\n",
       "      <td>0</td>\n",
       "      <td>2</td>\n",
       "      <td>0.0</td>\n",
       "      <td>2</td>\n",
       "      <td>0</td>\n",
       "      <td>0.0</td>\n",
       "      <td>0.0</td>\n",
       "    </tr>\n",
       "    <tr>\n",
       "      <th>1</th>\n",
       "      <td>20</td>\n",
       "      <td>4</td>\n",
       "      <td>2</td>\n",
       "      <td>20</td>\n",
       "      <td>0.181439</td>\n",
       "      <td>3</td>\n",
       "      <td>2</td>\n",
       "      <td>0.0</td>\n",
       "      <td>0</td>\n",
       "      <td>0</td>\n",
       "      <td>0.0</td>\n",
       "      <td>0.0</td>\n",
       "    </tr>\n",
       "    <tr>\n",
       "      <th>2</th>\n",
       "      <td>34</td>\n",
       "      <td>2</td>\n",
       "      <td>0</td>\n",
       "      <td>35</td>\n",
       "      <td>0.664348</td>\n",
       "      <td>1</td>\n",
       "      <td>2</td>\n",
       "      <td>1.0</td>\n",
       "      <td>4</td>\n",
       "      <td>0</td>\n",
       "      <td>0.0</td>\n",
       "      <td>3.0</td>\n",
       "    </tr>\n",
       "  </tbody>\n",
       "</table>\n",
       "</div>"
      ],
      "text/plain": [
       "   Customer_Age  Customer_Location  Customer_Tier  Purchase_History  \\\n",
       "0            25                  2              0                17   \n",
       "1            20                  4              2                20   \n",
       "2            34                  2              0                35   \n",
       "\n",
       "   Transaction_Amount  Payment_Method  Transaction_Status  Fraud  \\\n",
       "0            0.252803               0                   2    0.0   \n",
       "1            0.181439               3                   2    0.0   \n",
       "2            0.664348               1                   2    1.0   \n",
       "\n",
       "   Product_Category  High_Risk_Countries  Mismatch_Between_IP_And_Location  \\\n",
       "0                 2                    0                               0.0   \n",
       "1                 0                    0                               0.0   \n",
       "2                 4                    0                               0.0   \n",
       "\n",
       "   Multiple_Transactions  \n",
       "0                    0.0  \n",
       "1                    0.0  \n",
       "2                    3.0  "
      ]
     },
     "execution_count": 17,
     "metadata": {},
     "output_type": "execute_result"
    }
   ],
   "source": [
    "scaler = MinMaxScaler()\n",
    "data['Transaction_Amount'] = scaler.fit_transform(data[['Transaction_Amount']])\n",
    "data.head(3)"
   ]
  },
  {
   "cell_type": "code",
   "execution_count": 18,
   "id": "5c4eb6b1-4ac2-45a1-b778-a4345adc3598",
   "metadata": {},
   "outputs": [
    {
     "data": {
      "text/plain": [
       "Fraud\n",
       "0.0    648\n",
       "1.0    152\n",
       "Name: count, dtype: int64"
      ]
     },
     "execution_count": 18,
     "metadata": {},
     "output_type": "execute_result"
    }
   ],
   "source": [
    "data['Fraud'].value_counts()"
   ]
  },
  {
   "cell_type": "code",
   "execution_count": 19,
   "id": "eef8cbe2-6a19-4bfc-8ff9-02db2779ae9f",
   "metadata": {},
   "outputs": [
    {
     "name": "stdout",
     "output_type": "stream",
     "text": [
      "Fraud\n",
      "0.0    648\n",
      "1.0    648\n",
      "Name: count, dtype: int64\n"
     ]
    }
   ],
   "source": [
    "from sklearn.utils import resample\n",
    "\n",
    "# Separate the majority and minority classes\n",
    "majority_class = data[data['Fraud'] == 0.0]\n",
    "minority_class = data[data['Fraud'] == 1.0]\n",
    "\n",
    "# Oversample the minority class\n",
    "minority_oversampled = resample(\n",
    "    minority_class,\n",
    "    replace=True,  # Sample with replacement\n",
    "    n_samples=len(majority_class),  # Match the majority class size\n",
    "    random_state=42\n",
    ")\n",
    "\n",
    "# Combine the oversampled minority class with the majority class\n",
    "data_resampled = pd.concat([majority_class, minority_oversampled])\n",
    "\n",
    "# Shuffle the data\n",
    "data = data_resampled.sample(frac=1, random_state=42).reset_index(drop=True)\n",
    "\n",
    "print(data['Fraud'].value_counts())\n"
   ]
  },
  {
   "cell_type": "code",
   "execution_count": 20,
   "id": "64eca2e1-418f-449a-8810-8b5c2db7f9cb",
   "metadata": {},
   "outputs": [
    {
     "data": {
      "text/plain": [
       "(1296, 12)"
      ]
     },
     "execution_count": 20,
     "metadata": {},
     "output_type": "execute_result"
    }
   ],
   "source": [
    "data.shape"
   ]
  },
  {
   "cell_type": "code",
   "execution_count": 21,
   "id": "1952d742-ceec-494e-a569-eee0016733f4",
   "metadata": {},
   "outputs": [
    {
     "name": "stdout",
     "output_type": "stream",
     "text": [
      "(1296, 11)\n",
      "(1296,)\n"
     ]
    }
   ],
   "source": [
    "X = data.drop(columns='Fraud')\n",
    "y = data['Fraud']\n",
    "\n",
    "print(X.shape)\n",
    "print(y.shape)"
   ]
  },
  {
   "cell_type": "code",
   "execution_count": 22,
   "id": "821c15cb-6600-4c1d-ac45-3637bedc4825",
   "metadata": {},
   "outputs": [],
   "source": [
    "X_train, X_test, y_train, y_test = train_test_split(X,y, test_size=0.2, random_state=42)"
   ]
  },
  {
   "cell_type": "code",
   "execution_count": 24,
   "id": "a86d9a38-43f1-4601-888b-a6cbd35a3b4c",
   "metadata": {},
   "outputs": [
    {
     "name": "stdout",
     "output_type": "stream",
     "text": [
      "SVM Train Accuracy: 0.7954  Test Accuracy: 0.8077\n",
      "Random Forest Train Accuracy: 1.0000  Test Accuracy: 0.9654\n",
      "Decision Tree Train Accuracy: 1.0000  Test Accuracy: 0.8923\n",
      "XGBoost Train Accuracy: 1.0000  Test Accuracy: 0.9423\n",
      "[LightGBM] [Info] Number of positive: 521, number of negative: 515\n",
      "[LightGBM] [Info] Auto-choosing row-wise multi-threading, the overhead of testing was 0.000081 seconds.\n",
      "You can set `force_row_wise=true` to remove the overhead.\n",
      "And if memory is not enough, you can set `force_col_wise=true`.\n",
      "[LightGBM] [Info] Total Bins 391\n",
      "[LightGBM] [Info] Number of data points in the train set: 1036, number of used features: 11\n",
      "[LightGBM] [Info] [binary:BoostFromScore]: pavg=0.502896 -> initscore=0.011583\n",
      "[LightGBM] [Info] Start training from score 0.011583\n",
      "[LightGBM] [Warning] No further splits with positive gain, best gain: -inf\n",
      "[LightGBM] [Warning] No further splits with positive gain, best gain: -inf\n",
      "[LightGBM] [Warning] No further splits with positive gain, best gain: -inf\n",
      "[LightGBM] [Warning] No further splits with positive gain, best gain: -inf\n",
      "[LightGBM] [Warning] No further splits with positive gain, best gain: -inf\n",
      "[LightGBM] [Warning] No further splits with positive gain, best gain: -inf\n",
      "[LightGBM] [Warning] No further splits with positive gain, best gain: -inf\n",
      "[LightGBM] [Warning] No further splits with positive gain, best gain: -inf\n",
      "[LightGBM] [Warning] No further splits with positive gain, best gain: -inf\n",
      "[LightGBM] [Warning] No further splits with positive gain, best gain: -inf\n",
      "[LightGBM] [Warning] No further splits with positive gain, best gain: -inf\n",
      "[LightGBM] [Warning] No further splits with positive gain, best gain: -inf\n",
      "[LightGBM] [Warning] No further splits with positive gain, best gain: -inf\n",
      "[LightGBM] [Warning] No further splits with positive gain, best gain: -inf\n",
      "[LightGBM] [Warning] No further splits with positive gain, best gain: -inf\n",
      "[LightGBM] [Warning] No further splits with positive gain, best gain: -inf\n",
      "[LightGBM] [Warning] No further splits with positive gain, best gain: -inf\n",
      "[LightGBM] [Warning] No further splits with positive gain, best gain: -inf\n",
      "[LightGBM] [Warning] No further splits with positive gain, best gain: -inf\n",
      "[LightGBM] [Warning] No further splits with positive gain, best gain: -inf\n",
      "[LightGBM] [Warning] No further splits with positive gain, best gain: -inf\n",
      "[LightGBM] [Warning] No further splits with positive gain, best gain: -inf\n",
      "[LightGBM] [Warning] No further splits with positive gain, best gain: -inf\n",
      "[LightGBM] [Warning] No further splits with positive gain, best gain: -inf\n",
      "[LightGBM] [Warning] No further splits with positive gain, best gain: -inf\n",
      "[LightGBM] [Warning] No further splits with positive gain, best gain: -inf\n",
      "[LightGBM] [Warning] No further splits with positive gain, best gain: -inf\n",
      "[LightGBM] [Warning] No further splits with positive gain, best gain: -inf\n",
      "LightGBM Train Accuracy: 1.0000  Test Accuracy: 0.9462\n",
      "\n",
      "Model Accuracies:\n",
      "SVM - Train: 0.7954  Test: 0.8077\n",
      "Random Forest - Train: 1.0000  Test: 0.9654\n",
      "Decision Tree - Train: 1.0000  Test: 0.8923\n",
      "XGBoost - Train: 1.0000  Test: 0.9423\n",
      "LightGBM - Train: 1.0000  Test: 0.9462\n"
     ]
    }
   ],
   "source": [
    "from xgboost import XGBClassifier\n",
    "from lightgbm import LGBMClassifier\n",
    "from sklearn.metrics import accuracy_score\n",
    "\n",
    "# Define models\n",
    "models = {\n",
    "    \"SVM\": SVC(),\n",
    "    \"Random Forest\": RandomForestClassifier(random_state=42),\n",
    "    \"Decision Tree\": DecisionTreeClassifier(random_state=42),\n",
    "    \"XGBoost\": XGBClassifier(eval_metric='logloss', use_label_encoder=False),\n",
    "    \"LightGBM\": LGBMClassifier()\n",
    "}\n",
    "\n",
    "# Train and evaluate models\n",
    "accuracies = {}\n",
    "for name, model in models.items():\n",
    "    # Train the model\n",
    "    model.fit(X_train, y_train)\n",
    "    \n",
    "    # Predict on the training and test sets\n",
    "    y_train_pred = model.predict(X_train)\n",
    "    y_test_pred = model.predict(X_test)\n",
    "    \n",
    "    # Calculate and store the accuracies\n",
    "    train_accuracy = accuracy_score(y_train, y_train_pred)\n",
    "    test_accuracy = accuracy_score(y_test, y_test_pred)\n",
    "    \n",
    "    # Store both accuracies in the dictionary\n",
    "    accuracies[name] = {\"train\": train_accuracy, \"test\": test_accuracy}\n",
    "    \n",
    "    print(f\"{name} Train Accuracy: {train_accuracy:.4f}  Test Accuracy: {test_accuracy:.4f}\")\n",
    "\n",
    "# Display all model accuracies\n",
    "print(\"\\nModel Accuracies:\")\n",
    "for name, acc in accuracies.items():\n",
    "    print(f\"{name} - Train: {acc['train']:.4f}  Test: {acc['test']:.4f}\")\n",
    "\n"
   ]
  },
  {
   "cell_type": "code",
   "execution_count": 29,
   "id": "4b50a4db-a3a7-4396-8622-0b9bd4a97b46",
   "metadata": {},
   "outputs": [
    {
     "data": {
      "image/png": "[encoded data removed]",
      "text/plain": [
       "<Figure size 1500x1000 with 10 Axes>"
      ]
     },
     "metadata": {},
     "output_type": "display_data"
    }
   ],
   "source": [
    "from sklearn.metrics import ConfusionMatrixDisplay\n",
    "\n",
    "# Create a figure for all confusion matrices\n",
    "fig, axes = plt.subplots(2, 3, figsize=(15, 10))  # Adjust rows and columns based on the number of models\n",
    "axes = axes.flatten()  # Flatten to easily iterate over axes\n",
    "\n",
    "# Generate confusion matrices for each model\n",
    "for idx, (name, model) in enumerate(models.items()):\n",
    "    y_pred = model.predict(X_test)\n",
    "    cm = confusion_matrix(y_test, y_pred)\n",
    "    disp = ConfusionMatrixDisplay(confusion_matrix=cm, display_labels=model.classes_ if hasattr(model, 'classes_') else [0, 1])\n",
    "    disp.plot(ax=axes[idx], cmap='Blues', colorbar=True)\n",
    "    axes[idx].set_title(f\"{name} Confusion Matrix\")\n",
    "\n",
    "# Hide unused subplots if any\n",
    "for i in range(len(models), len(axes)):\n",
    "    fig.delaxes(axes[i])\n",
    "\n",
    "plt.tight_layout()\n",
    "plt.show()\n"
   ]
  }
 ],
 "metadata": {
  "kernelspec": {
   "display_name": "Python 3 (ipykernel)",
   "language": "python",
   "name": "python3"
  },
  "language_info": {
   "codemirror_mode": {
    "name": "ipython",
    "version": 3
   },
   "file_extension": ".py",
   "mimetype": "text/x-python",
   "name": "python",
   "nbconvert_exporter": "python",
   "pygments_lexer": "ipython3",
   "version": "3.12.7"
  }
 },
 "nbformat": 4,
 "nbformat_minor": 5
}
